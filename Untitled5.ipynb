{
 "cells": [
  {
   "cell_type": "code",
   "execution_count": 2,
   "id": "e16cf3b5-ed3f-4b89-9848-616dcf02cb12",
   "metadata": {},
   "outputs": [
    {
     "name": "stdout",
     "output_type": "stream",
     "text": [
      "请输入一个三位自然数\n"
     ]
    },
    {
     "name": "stdin",
     "output_type": "stream",
     "text": [
      "请输入123: 123\n"
     ]
    },
    {
     "name": "stdout",
     "output_type": "stream",
     "text": [
      "它百位的数字是: 1 它十位的数字是: 2 它个位的数字是: 3\n"
     ]
    }
   ],
   "source": [
    "'''刘珂 202311008237\n",
    "(程序题) [习题2-2，算数运算符]\n",
    "设置代码，输入一个三位自然数：123，计算并输出其百位、十位和个位上的数字。\n",
    "\n",
    "要求：在jupyter中编写并运行，第一行用注释的形式写上姓名 学号，代码程序和输出结果可拍照上传、可复制上传。\n",
    "\n",
    "'''\n",
    "\n",
    "print(\"请输入一个三位自然数\") \n",
    "data=int(input(\"请输入123:\")) \n",
    "a=data//100 \n",
    "b=data%100//10\n",
    "c=data%100%10 \n",
    "print(\"它百位的数字是:\",a,\"它十位的数字是:\",b,\"它个位的数字是:\",c)\n"
   ]
  },
  {
   "cell_type": "code",
   "execution_count": 5,
   "id": "50d2a84d-9974-40ed-b3d8-5288f4cdf712",
   "metadata": {},
   "outputs": [
    {
     "name": "stdout",
     "output_type": "stream",
     "text": [
      "请输入相关数据\n"
     ]
    },
    {
     "name": "stdin",
     "output_type": "stream",
     "text": [
      "请输入球的半径: 5\n"
     ]
    },
    {
     "name": "stdout",
     "output_type": "stream",
     "text": [
      "球的表面积=314.159 球的体积=523.599\n"
     ]
    }
   ],
   "source": [
    "'''刘珂 202311008237\n",
    "2. (程序题)\n",
    "[习题2-1，顺序结构题]\n",
    "\n",
    " 编写程序，设置输入球的半径r=5，输出球的表面积s和体积v（结果格式化输出，保留三位小数）。\n",
    "\n",
    "要求：在jupyter中编写并运行，第一行用注释的形式写上姓名 学号，代码程序和输出结果可拍照上传、可复制上传。\n",
    "\n",
    "'''\n",
    "import math\n",
    "print(\"请输入相关数据\")\n",
    "radius=float(input(\"请输入球的半径:\"))\n",
    "sarea=4*math.pi*radius**2\n",
    "volume=4/3*math.pi*radius**3\n",
    "print(\"球的表面积={0:.3f}\".format(sarea),\\\n",
    "     \"球的体积={0:.3f}\".format(volume))"
   ]
  },
  {
   "cell_type": "code",
   "execution_count": 19,
   "id": "248a04da-0b30-420a-b372-dba31cf608de",
   "metadata": {
    "scrolled": true
   },
   "outputs": [
    {
     "name": "stdout",
     "output_type": "stream",
     "text": [
      "5\n",
      "['apple', 'banana', 'peach', 'grape', 'orange']\n",
      "['apple', 'banana']\n",
      "['apple', 'banana', 'cherry', 'grape', 'orange', 'strawberry']\n",
      "['pear', 'apple', 'banana', 'cherry', 'grape', 'orange']\n",
      "['orange', 'grape', 'cherry', 'banana', 'apple']\n"
     ]
    }
   ],
   "source": [
    "'''\n",
    "刘珂 202311008237 \n",
    "3. (程序题) [习题2-3，列表与字符串练习]。\n",
    "已知列表li=['apple','banana','cherry','grape','orange']，请依次完成以下操作：\n",
    "\n",
    "（1）计算列表长度并输出；\n",
    "\n",
    "（2）修改列表第2个位置的元素为“peach”，并输出修改后的列表；\n",
    "\n",
    "（3）删除列表中的第2至4个元素，并输出列表;\n",
    "\n",
    "（4）列表中追加元素“strawberry”，并输出列表；\n",
    "\n",
    "（5）请在列表的第1个位置插入元素“pear”，并输出列表；\n",
    "\n",
    "（6）将列表所有的元素反转，并输出反转后的列表\n",
    "\n",
    "要求：在jupyter中编写并运行，第一行用注释的形式写上姓名学号，代码程序和输出结果可拍照上传、可复制上传。 '''\n",
    "li=['apple','banana','cherry','grape','orange'] \n",
    "print(len(li))\n",
    "\n",
    "li=['apple','banana','cherry','grape','orange']\n",
    "li[2]='peach'\n",
    "print(li)\n",
    "\n",
    "li=['apple','banana','cherry','grape','orange']\n",
    "del li[2:5]\n",
    "print(li)\n",
    "\n",
    "li=['apple','banana','cherry','grape','orange']\n",
    "li.append('strawberry')\n",
    "print(li)\n",
    "\n",
    "li=['apple','banana','cherry','grape','orange']\n",
    "li.insert(0,'pear')\n",
    "print(li)\n",
    "\n",
    "li=['apple','banana','cherry','grape','orange']\n",
    "li.reverse()\n",
    "print(li)"
   ]
  },
  {
   "cell_type": "code",
   "execution_count": 31,
   "id": "cfbc424c-a1db-4619-8065-45d21394f69e",
   "metadata": {},
   "outputs": [
    {
     "name": "stdout",
     "output_type": "stream",
     "text": [
      "101\n",
      "103\n",
      "107\n",
      "109\n",
      "113\n",
      "127\n",
      "131\n",
      "137\n",
      "139\n",
      "149\n",
      "151\n",
      "157\n",
      "163\n",
      "167\n",
      "173\n",
      "179\n",
      "181\n",
      "191\n",
      "193\n",
      "197\n",
      "199\n"
     ]
    }
   ],
   "source": [
    "'''202311008237 刘珂\n",
    "[习题2-5，for循环]\n",
    "\n",
    "设计程序，使用for循环等，输出100-200内的所有素数，并统计素数个数。\n",
    "要求：在jupyter中编写并运行，第一行用注释的形式写上姓名 学号，代码程序和输出结果可拍照上传、可复制上传。'''\n",
    "for i in range(100,200):\n",
    "    for j in range(2,round(math.sqrt(i))+1):\n",
    "        if i%j==0:\n",
    "            break\n",
    "    else:\n",
    "        print(i)"
   ]
  },
  {
   "cell_type": "code",
   "execution_count": 32,
   "id": "1b078855-2a2a-4d94-989e-a086f165fa7d",
   "metadata": {},
   "outputs": [
    {
     "name": "stdout",
     "output_type": "stream",
     "text": [
      "123\n",
      "124\n",
      "132\n",
      "134\n",
      "142\n",
      "143\n",
      "213\n",
      "214\n",
      "231\n",
      "234\n",
      "241\n",
      "243\n",
      "312\n",
      "314\n",
      "321\n",
      "324\n",
      "341\n",
      "342\n",
      "412\n",
      "413\n",
      "421\n",
      "423\n",
      "431\n",
      "432\n"
     ]
    }
   ],
   "source": [
    "'''刘珂 202311008237\n",
    "5. (程序题)\n",
    "[习题2-7]\n",
    "\n",
    "编写代码：由数字1，2，3，4能组成多少个互不相同且无重复数字的三位数？请输出这些数字？\n",
    "\n",
    "提示：参考课本例子2-48.\n",
    "\n",
    "要求：在jupyter中编写并运行，第一行用注释的形式写上姓名 学号，代码程序和输出结果可拍照上传、可复制上传。\n",
    "\n",
    "'''\n",
    "for i in range(1,5):\n",
    "    for j in range(1,5):\n",
    "        for k in range(1,5):\n",
    "            if(i!=k)and(i!=j)and(j!=k):\n",
    "                print(i*100+j*10+k)"
   ]
  },
  {
   "cell_type": "code",
   "execution_count": 34,
   "id": "911cc764-10c8-4a89-893f-8c9966a3cafd",
   "metadata": {},
   "outputs": [
    {
     "name": "stdout",
     "output_type": "stream",
     "text": [
      "苹果\n",
      "香蕉\n",
      "樱桃\n",
      "葡萄\n"
     ]
    }
   ],
   "source": [
    "'''刘珂 202311008237\n",
    "6. (程序题)\n",
    "[while循环练习]。\n",
    "\n",
    "编写代码。使用while循环，查找列表fruits = [\"苹果\", \"香蕉\", \"樱桃\", \"葡萄\"]中的各个元素，并输出各个元素。\n",
    "\n",
    "输出结果为：\n",
    "\n",
    "苹果\n",
    "香蕉\n",
    "樱桃\n",
    "葡萄\n",
    "\n",
    "\n",
    "\n",
    "要求：在jupyter中编写并运行，第一行用注释的形式写上姓名 学号，代码程序和输出结果可拍照上传、可复制上传。'''\n",
    "fruits = [\"苹果\", \"香蕉\", \"樱桃\", \"葡萄\"]\n",
    "index=0\n",
    "while index<len(fruits):\n",
    "    print(fruits[index])\n",
    "    index+=1"
   ]
  }
 ],
 "metadata": {
  "kernelspec": {
   "display_name": "Python 3 (ipykernel)",
   "language": "python",
   "name": "python3"
  },
  "language_info": {
   "codemirror_mode": {
    "name": "ipython",
    "version": 3
   },
   "file_extension": ".py",
   "mimetype": "text/x-python",
   "name": "python",
   "nbconvert_exporter": "python",
   "pygments_lexer": "ipython3",
   "version": "3.11.7"
  }
 },
 "nbformat": 4,
 "nbformat_minor": 5
}
